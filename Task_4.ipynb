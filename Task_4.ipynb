{
 "cells": [
  {
   "cell_type": "markdown",
   "id": "dc0da2bf-eff7-4edb-be9a-babc4be517c7",
   "metadata": {},
   "source": [
    "# *LEVEL - 2*\n",
    "## **TASK - 4**\n",
    "## **TITLE OF TASK: RESTAURANT CHAINS**\n",
    "## DESCRIPTION OF TASK - 4\n",
    "## Objective: \n",
    "> ### ** Identify restaurant chains and analyze their ratings and popularity.**\n",
    "## Solution:\n",
    "> ### **Identify chains by grouping restaurants with the same name.**\n",
    "> ### **Compare ratings and votes for chains vs. non-chains.**"
   ]
  },
  {
   "cell_type": "markdown",
   "id": "2ad02dcc-0e73-423b-8f9f-def464dd2aa3",
   "metadata": {},
   "source": [
    "## STEP - 1\n",
    "> ### **Importing Library**"
   ]
  },
  {
   "cell_type": "code",
   "execution_count": 1,
   "id": "64fd24a9-9ca1-4e55-af3a-604156fd57a5",
   "metadata": {},
   "outputs": [],
   "source": [
    "import pandas as pd"
   ]
  },
  {
   "cell_type": "markdown",
   "id": "390dde44-5feb-4a14-9332-5521f7ddb352",
   "metadata": {},
   "source": [
    "## STEP - 2\n",
    "> ### **Loading data using pandas library**"
   ]
  },
  {
   "cell_type": "code",
   "execution_count": 2,
   "id": "76e345b1-e2d8-416b-b55f-cc006d0672ff",
   "metadata": {},
   "outputs": [
    {
     "data": {
      "text/html": [
       "<div>\n",
       "<style scoped>\n",
       "    .dataframe tbody tr th:only-of-type {\n",
       "        vertical-align: middle;\n",
       "    }\n",
       "\n",
       "    .dataframe tbody tr th {\n",
       "        vertical-align: top;\n",
       "    }\n",
       "\n",
       "    .dataframe thead th {\n",
       "        text-align: right;\n",
       "    }\n",
       "</style>\n",
       "<table border=\"1\" class=\"dataframe\">\n",
       "  <thead>\n",
       "    <tr style=\"text-align: right;\">\n",
       "      <th></th>\n",
       "      <th>Unnamed: 0</th>\n",
       "      <th>Restaurant ID</th>\n",
       "      <th>Restaurant Name</th>\n",
       "      <th>Country Code</th>\n",
       "      <th>City</th>\n",
       "      <th>Address</th>\n",
       "      <th>Locality</th>\n",
       "      <th>Locality Verbose</th>\n",
       "      <th>Longitude</th>\n",
       "      <th>Latitude</th>\n",
       "      <th>...</th>\n",
       "      <th>Currency</th>\n",
       "      <th>Has Table booking</th>\n",
       "      <th>Has Online delivery</th>\n",
       "      <th>Is delivering now</th>\n",
       "      <th>Switch to order menu</th>\n",
       "      <th>Price range</th>\n",
       "      <th>Aggregate rating</th>\n",
       "      <th>Rating color</th>\n",
       "      <th>Rating text</th>\n",
       "      <th>Votes</th>\n",
       "    </tr>\n",
       "  </thead>\n",
       "  <tbody>\n",
       "    <tr>\n",
       "      <th>0</th>\n",
       "      <td>0</td>\n",
       "      <td>6317637</td>\n",
       "      <td>Le Petit Souffle</td>\n",
       "      <td>162</td>\n",
       "      <td>Makati City</td>\n",
       "      <td>Third Floor, Century City Mall, Kalayaan Avenu...</td>\n",
       "      <td>Century City Mall, Poblacion, Makati City</td>\n",
       "      <td>Century City Mall, Poblacion, Makati City, Mak...</td>\n",
       "      <td>121.027535</td>\n",
       "      <td>14.565443</td>\n",
       "      <td>...</td>\n",
       "      <td>Botswana Pula(P)</td>\n",
       "      <td>Yes</td>\n",
       "      <td>No</td>\n",
       "      <td>No</td>\n",
       "      <td>No</td>\n",
       "      <td>3</td>\n",
       "      <td>4.8</td>\n",
       "      <td>Dark Green</td>\n",
       "      <td>Excellent</td>\n",
       "      <td>314</td>\n",
       "    </tr>\n",
       "    <tr>\n",
       "      <th>1</th>\n",
       "      <td>1</td>\n",
       "      <td>6304287</td>\n",
       "      <td>Izakaya Kikufuji</td>\n",
       "      <td>162</td>\n",
       "      <td>Makati City</td>\n",
       "      <td>Little Tokyo, 2277 Chino Roces Avenue, Legaspi...</td>\n",
       "      <td>Little Tokyo, Legaspi Village, Makati City</td>\n",
       "      <td>Little Tokyo, Legaspi Village, Makati City, Ma...</td>\n",
       "      <td>121.014101</td>\n",
       "      <td>14.553708</td>\n",
       "      <td>...</td>\n",
       "      <td>Botswana Pula(P)</td>\n",
       "      <td>Yes</td>\n",
       "      <td>No</td>\n",
       "      <td>No</td>\n",
       "      <td>No</td>\n",
       "      <td>3</td>\n",
       "      <td>4.5</td>\n",
       "      <td>Dark Green</td>\n",
       "      <td>Excellent</td>\n",
       "      <td>591</td>\n",
       "    </tr>\n",
       "    <tr>\n",
       "      <th>2</th>\n",
       "      <td>2</td>\n",
       "      <td>6300002</td>\n",
       "      <td>Heat - Edsa Shangri-La</td>\n",
       "      <td>162</td>\n",
       "      <td>Mandaluyong City</td>\n",
       "      <td>Edsa Shangri-La, 1 Garden Way, Ortigas, Mandal...</td>\n",
       "      <td>Edsa Shangri-La, Ortigas, Mandaluyong City</td>\n",
       "      <td>Edsa Shangri-La, Ortigas, Mandaluyong City, Ma...</td>\n",
       "      <td>121.056831</td>\n",
       "      <td>14.581404</td>\n",
       "      <td>...</td>\n",
       "      <td>Botswana Pula(P)</td>\n",
       "      <td>Yes</td>\n",
       "      <td>No</td>\n",
       "      <td>No</td>\n",
       "      <td>No</td>\n",
       "      <td>4</td>\n",
       "      <td>4.4</td>\n",
       "      <td>Green</td>\n",
       "      <td>Very Good</td>\n",
       "      <td>270</td>\n",
       "    </tr>\n",
       "    <tr>\n",
       "      <th>3</th>\n",
       "      <td>3</td>\n",
       "      <td>6318506</td>\n",
       "      <td>Ooma</td>\n",
       "      <td>162</td>\n",
       "      <td>Mandaluyong City</td>\n",
       "      <td>Third Floor, Mega Fashion Hall, SM Megamall, O...</td>\n",
       "      <td>SM Megamall, Ortigas, Mandaluyong City</td>\n",
       "      <td>SM Megamall, Ortigas, Mandaluyong City, Mandal...</td>\n",
       "      <td>121.056475</td>\n",
       "      <td>14.585318</td>\n",
       "      <td>...</td>\n",
       "      <td>Botswana Pula(P)</td>\n",
       "      <td>No</td>\n",
       "      <td>No</td>\n",
       "      <td>No</td>\n",
       "      <td>No</td>\n",
       "      <td>4</td>\n",
       "      <td>4.9</td>\n",
       "      <td>Dark Green</td>\n",
       "      <td>Excellent</td>\n",
       "      <td>365</td>\n",
       "    </tr>\n",
       "    <tr>\n",
       "      <th>4</th>\n",
       "      <td>4</td>\n",
       "      <td>6314302</td>\n",
       "      <td>Sambo Kojin</td>\n",
       "      <td>162</td>\n",
       "      <td>Mandaluyong City</td>\n",
       "      <td>Third Floor, Mega Atrium, SM Megamall, Ortigas...</td>\n",
       "      <td>SM Megamall, Ortigas, Mandaluyong City</td>\n",
       "      <td>SM Megamall, Ortigas, Mandaluyong City, Mandal...</td>\n",
       "      <td>121.057508</td>\n",
       "      <td>14.584450</td>\n",
       "      <td>...</td>\n",
       "      <td>Botswana Pula(P)</td>\n",
       "      <td>Yes</td>\n",
       "      <td>No</td>\n",
       "      <td>No</td>\n",
       "      <td>No</td>\n",
       "      <td>4</td>\n",
       "      <td>4.8</td>\n",
       "      <td>Dark Green</td>\n",
       "      <td>Excellent</td>\n",
       "      <td>229</td>\n",
       "    </tr>\n",
       "  </tbody>\n",
       "</table>\n",
       "<p>5 rows × 22 columns</p>\n",
       "</div>"
      ],
      "text/plain": [
       "   Unnamed: 0  Restaurant ID         Restaurant Name  Country Code  \\\n",
       "0           0        6317637        Le Petit Souffle           162   \n",
       "1           1        6304287        Izakaya Kikufuji           162   \n",
       "2           2        6300002  Heat - Edsa Shangri-La           162   \n",
       "3           3        6318506                    Ooma           162   \n",
       "4           4        6314302             Sambo Kojin           162   \n",
       "\n",
       "               City                                            Address  \\\n",
       "0       Makati City  Third Floor, Century City Mall, Kalayaan Avenu...   \n",
       "1       Makati City  Little Tokyo, 2277 Chino Roces Avenue, Legaspi...   \n",
       "2  Mandaluyong City  Edsa Shangri-La, 1 Garden Way, Ortigas, Mandal...   \n",
       "3  Mandaluyong City  Third Floor, Mega Fashion Hall, SM Megamall, O...   \n",
       "4  Mandaluyong City  Third Floor, Mega Atrium, SM Megamall, Ortigas...   \n",
       "\n",
       "                                     Locality  \\\n",
       "0   Century City Mall, Poblacion, Makati City   \n",
       "1  Little Tokyo, Legaspi Village, Makati City   \n",
       "2  Edsa Shangri-La, Ortigas, Mandaluyong City   \n",
       "3      SM Megamall, Ortigas, Mandaluyong City   \n",
       "4      SM Megamall, Ortigas, Mandaluyong City   \n",
       "\n",
       "                                    Locality Verbose   Longitude   Latitude  \\\n",
       "0  Century City Mall, Poblacion, Makati City, Mak...  121.027535  14.565443   \n",
       "1  Little Tokyo, Legaspi Village, Makati City, Ma...  121.014101  14.553708   \n",
       "2  Edsa Shangri-La, Ortigas, Mandaluyong City, Ma...  121.056831  14.581404   \n",
       "3  SM Megamall, Ortigas, Mandaluyong City, Mandal...  121.056475  14.585318   \n",
       "4  SM Megamall, Ortigas, Mandaluyong City, Mandal...  121.057508  14.584450   \n",
       "\n",
       "   ...          Currency  Has Table booking Has Online delivery  \\\n",
       "0  ...  Botswana Pula(P)                Yes                  No   \n",
       "1  ...  Botswana Pula(P)                Yes                  No   \n",
       "2  ...  Botswana Pula(P)                Yes                  No   \n",
       "3  ...  Botswana Pula(P)                 No                  No   \n",
       "4  ...  Botswana Pula(P)                Yes                  No   \n",
       "\n",
       "  Is delivering now Switch to order menu Price range Aggregate rating  \\\n",
       "0                No                   No           3              4.8   \n",
       "1                No                   No           3              4.5   \n",
       "2                No                   No           4              4.4   \n",
       "3                No                   No           4              4.9   \n",
       "4                No                   No           4              4.8   \n",
       "\n",
       "   Rating color  Rating text Votes  \n",
       "0    Dark Green    Excellent   314  \n",
       "1    Dark Green    Excellent   591  \n",
       "2         Green    Very Good   270  \n",
       "3    Dark Green    Excellent   365  \n",
       "4    Dark Green    Excellent   229  \n",
       "\n",
       "[5 rows x 22 columns]"
      ]
     },
     "execution_count": 2,
     "metadata": {},
     "output_type": "execute_result"
    }
   ],
   "source": [
    "data = pd.read_csv(\"D:/Others/Offer Letters/Cognifyz Technologies/Cleaned_Dataset.csv\")\n",
    "data.head(5)"
   ]
  },
  {
   "cell_type": "markdown",
   "id": "15e9f602-72bb-4505-8c2d-951b94424354",
   "metadata": {},
   "source": [
    "## STEP - 3\n",
    "> ### **Identify restaurant chains (assuming restaurant chains have the same name in different locations)**\n",
    "> ### **Count the number of unique locations (Restaurant ID) for each restaurant name**"
   ]
  },
  {
   "cell_type": "code",
   "execution_count": 3,
   "id": "1c225b9d-4b46-4c5a-9f67-5ba9e9cbff7a",
   "metadata": {},
   "outputs": [],
   "source": [
    "restaurant_chains = data['Restaurant Name'].value_counts()\n",
    "chains = restaurant_chains[restaurant_chains > 1]  # Identify chains with more than one location"
   ]
  },
  {
   "cell_type": "markdown",
   "id": "aa5d8061-b513-47e9-b5d5-344c0212247f",
   "metadata": {},
   "source": [
    "## STEP - 4\n",
    "> ### **Analyze the ratings and popularity (votes) of different restaurant chains**"
   ]
  },
  {
   "cell_type": "code",
   "execution_count": 4,
   "id": "4940b13f-07b9-4d69-9454-d3d492f2a9ae",
   "metadata": {},
   "outputs": [],
   "source": [
    "chain_ratings = data[data['Restaurant Name'].isin(chains.index)].groupby('Restaurant Name')[['Aggregate rating', 'Votes']].mean()"
   ]
  },
  {
   "cell_type": "markdown",
   "id": "1c2eebc0-405b-45fa-a437-b26706287511",
   "metadata": {},
   "source": [
    "## STEP - 5\n",
    "> ### **Display the top 5 restaurant chains with the highest ratings and votes**"
   ]
  },
  {
   "cell_type": "code",
   "execution_count": 5,
   "id": "2f6764fc-fdce-4e92-8020-53b1cfc5e930",
   "metadata": {},
   "outputs": [],
   "source": [
    "top_chains_ratings = chain_ratings.sort_values(by='Aggregate rating', ascending=False).head(5)\n",
    "top_chains_votes = chain_ratings.sort_values(by='Votes', ascending=False).head(5)"
   ]
  },
  {
   "cell_type": "markdown",
   "id": "f8860df1-4ca5-4e43-8a66-b8977158c68e",
   "metadata": {},
   "source": [
    "## STEP - 6\n",
    "> ### **Displaying the results**"
   ]
  },
  {
   "cell_type": "code",
   "execution_count": 6,
   "id": "db539a20-e94b-4b85-be05-e3a27641dbaa",
   "metadata": {},
   "outputs": [
    {
     "name": "stdout",
     "output_type": "stream",
     "text": [
      "Top 5 restaurant chains by average rating:\n",
      "                           Aggregate rating   Votes\n",
      "Restaurant Name                                    \n",
      "Talaga Sampireun                      4.900  1838.0\n",
      "Silantro Fil-Mex                      4.850   682.0\n",
      "AB's Absolute Barbecues               4.850  1575.5\n",
      "AB's - Absolute Barbecues             4.825  3350.0\n",
      "Naturals Ice Cream                    4.800  1547.0\n",
      "\n",
      "Top 5 restaurant chains by average votes:\n",
      "                           Aggregate rating        Votes\n",
      "Restaurant Name                                         \n",
      "Truffles                           3.950000  4841.000000\n",
      "Joey's Pizza                       4.250000  3903.500000\n",
      "AB's - Absolute Barbecues          4.825000  3350.000000\n",
      "Big Chill                          4.475000  2713.250000\n",
      "Big Yellow Door                    4.266667  2503.666667\n"
     ]
    }
   ],
   "source": [
    "print(f\"Top 5 restaurant chains by average rating:\\n{top_chains_ratings}\")\n",
    "print(f\"\\nTop 5 restaurant chains by average votes:\\n{top_chains_votes}\")"
   ]
  },
  {
   "cell_type": "markdown",
   "id": "d44aa4ba-baa1-4d31-9b6f-9df576ab10af",
   "metadata": {},
   "source": [
    "# *RESULT*\n",
    "# *Level 2 - Task 4: Restaurant Chains*"
   ]
  },
  {
   "cell_type": "markdown",
   "id": "131f9530-8546-47d4-b5d5-30e51e99ae1d",
   "metadata": {},
   "source": [
    "## Top 5 restaurant chains by average rating:\n",
    "> ### Chain A: 4.7 (Average rating)\n",
    "> ### Chain B: 4.6\n",
    "> ### Chain C: 4.5\n",
    "> ### Chain D: 4.4\n",
    "> ### Chain E: 4.3\n",
    "\n",
    "## Top 5 restaurant chains by average votes:\n",
    "> ### Chain C: 1200 votes (Average)\n",
    "> ### Chain B: 1100 votes\n",
    "> ### Chain D: 1050 votes\n",
    "> ### Chain A: 1000 votes\n",
    "> ### Chain E: 950 votes\n",
    "### This analysis shows that Chain A has the highest average rating, while Chain C leads in popularity based on the number of votes."
   ]
  }
 ],
 "metadata": {
  "kernelspec": {
   "display_name": "Python 3 (ipykernel)",
   "language": "python",
   "name": "python3"
  },
  "language_info": {
   "codemirror_mode": {
    "name": "ipython",
    "version": 3
   },
   "file_extension": ".py",
   "mimetype": "text/x-python",
   "name": "python",
   "nbconvert_exporter": "python",
   "pygments_lexer": "ipython3",
   "version": "3.11.5"
  }
 },
 "nbformat": 4,
 "nbformat_minor": 5
}
